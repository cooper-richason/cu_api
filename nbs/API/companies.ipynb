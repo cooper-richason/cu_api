{
 "cells": [
  {
   "cell_type": "markdown",
   "metadata": {},
   "source": [
    "# Companies\n",
    "\n",
    "> How to search for and update your comany records in Copper."
   ]
  },
  {
   "cell_type": "code",
   "execution_count": null,
   "metadata": {},
   "outputs": [],
   "source": [
    "#| default_exp companies"
   ]
  },
  {
   "cell_type": "code",
   "execution_count": null,
   "metadata": {},
   "outputs": [],
   "source": [
    "#| hide\n",
    "\n",
    "from nbdev.showdoc import *"
   ]
  },
  {
   "cell_type": "code",
   "execution_count": null,
   "metadata": {},
   "outputs": [
    {
     "name": "stderr",
     "output_type": "stream",
     "text": [
      "/Users/rehabpath/Local_Projects/cu_api/cu_api/search.py:10: TqdmExperimentalWarning: Using `tqdm.autonotebook.tqdm` in notebook mode. Use `tqdm.tqdm` instead to force console mode (e.g. in jupyter console)\n",
      "  from tqdm.autonotebook import tqdm\n"
     ]
    }
   ],
   "source": [
    "#| export\n",
    "from cu_api import core, config\n",
    "from cu_api.query import Query as _Query\n",
    "from cu_api.core import set_headers as _set_headers\n",
    "from cu_api.search import _search_loop, get_owners\n",
    "import pandas as pd\n",
    "import pytz\n",
    "from tqdm.autonotebook import tqdm"
   ]
  },
  {
   "cell_type": "markdown",
   "metadata": {},
   "source": [
    "### Searching Copper Companies\n",
    "\n",
    "Working with Copper Companies is a core feature of cu_api and is done with the `companies.search()` function, but before you can start any search, you must first form your **Query**. \n",
    "\n",
    "A `Query` is an object that holds all of your search parameters and tells cu_api what you want from Copper. Once you create a query and give it to cu_api via the `companies.search(Query)` function, it takes care of all the idiosyncrasies of the Copper API."
   ]
  },
  {
   "cell_type": "code",
   "execution_count": null,
   "metadata": {},
   "outputs": [],
   "source": [
    "#| exporti\n",
    "class Query(_Query):pass\n",
    "def create_query(*args, **kwargs): return _Query(*args, **kwargs)"
   ]
  },
  {
   "cell_type": "markdown",
   "metadata": {},
   "source": [
    "#### Query info here\n",
    "blah Blah Blah"
   ]
  },
  {
   "cell_type": "code",
   "execution_count": null,
   "metadata": {},
   "outputs": [],
   "source": [
    "#| exporti\n",
    "def _clean_row(company_data:list, #Returned company data as list of dictionaries,\n",
    "                          cf_fields:list = [], # list of custom fields on companies you would like to include\n",
    "):\n",
    "    \"\"\"Process to clean returned company data\"\"\"\n",
    "\n",
    "    core.prc_get_cf_fields()\n",
    "    custom_fields = getattr(config,'CUSTOM_FIELDS')\n",
    "    custom_fields_dict = getattr(config,'CUSTOM_FIELDS_DICT')\n",
    "\n",
    "    def clean_date(date):\n",
    "        try:\n",
    "            if date is None: return None  # Handle None values (empty rows)\n",
    "            if isinstance(date, int) and len(str(date)) >= 6 and len(str(date)) <= 10:\n",
    "                # If it's an integer with <= 10 digits, assume it's a Unix timestamp\n",
    "                ct_timezone = pytz.timezone('US/Central')\n",
    "                new_date = pd.to_datetime(date, unit='s',utc=True).tz_convert(ct_timezone)\n",
    "                return new_date\n",
    "            else: return date\n",
    "        except Exception as e:\n",
    "            return date\n",
    "\n",
    "    native_items = ['id', 'name','assignee_id', 'contact_type_id']\n",
    "    output_dict = {}\n",
    "\n",
    "    for item in native_items: output_dict[item] = company_data.get(item, None)\n",
    "    if company_data['address']: \n",
    "        for item in dict(company_data['address']).keys(): output_dict[item] = dict(company_data['address'])[item]\n",
    "\n",
    "    custom_field_data = company_data['custom_fields']\n",
    "\n",
    "    for dict_item in custom_field_data:\n",
    "        item_id = dict_item['custom_field_definition_id']\n",
    "        item_name = custom_fields_dict.get(item_id, None)\n",
    "        data_type = custom_fields[item_id].get('data_type')\n",
    "\n",
    "        if item_name not in cf_fields and item_id not in cf_fields or item_name is None:\n",
    "            continue\n",
    "        elif item_name is not None and ('options' in list(custom_fields[item_id].keys())):\n",
    "            item_value = dict_item['value']\n",
    "            value_name = core.cf_option_name(item_id,item_value)\n",
    "            output_dict[item_name] = value_name\n",
    "        elif data_type == 'Date':\n",
    "            cleaned_date = clean_date(dict_item['value'])\n",
    "            output_dict[item_name] = cleaned_date\n",
    "        else:\n",
    "            item_value = dict_item['value']\n",
    "            output_dict[item_name] = item_value\n",
    "\n",
    "    return output_dict"
   ]
  },
  {
   "cell_type": "code",
   "execution_count": null,
   "metadata": {},
   "outputs": [],
   "source": [
    "#| exporti\n",
    "\n",
    "def _clean_dataframe(df):\n",
    "    list_assign_ids = list(df['assignee_id'].dropna().unique().astype(int))\n",
    "    assignee_dict = get_owners(list_assign_ids)\n",
    "\n",
    "    df['Owned By'] = df['assignee_id'].apply(lambda value: assignee_dict.get(value))\n",
    "    df.drop(columns=['assignee_id'])\n",
    "    return df\n"
   ]
  },
  {
   "cell_type": "code",
   "execution_count": null,
   "metadata": {},
   "outputs": [],
   "source": [
    "#| exporti\n",
    "\n",
    "def set_headers(AccessToken:str, #Access Token (API Key) provided by Copper\n",
    "                 UserEmail:str): #Email associated with your API key\n",
    "    _set_headers(AccessToken,UserEmail)\n",
    "    "
   ]
  },
  {
   "cell_type": "code",
   "execution_count": null,
   "metadata": {},
   "outputs": [],
   "source": [
    "#| export\n",
    "def search(search_query, # Instance of Query object\n",
    "            clean_data:bool = True, # Whether to clean results or not\n",
    "            drop:list = None, # Columns to drop from final dataframe\n",
    "            **kwargs\n",
    "            )->pd.DataFrame:\n",
    "    \"\"\"Search for Company records in Copper!\n",
    "    \n",
    "    This function allows you to systematically search Copper for companies \n",
    "    that match the parameters specified in your `Query` and returns the \n",
    "    returns the data as a pandas dataframe\n",
    "    \"\"\"\n",
    "    \n",
    "    combined_results, Outputs = _search_loop(search_query= search_query, url= 'https://api.copper.com/developer_api/v1/companies/search')\n",
    "    \n",
    "    # Custom Fields\n",
    "    if 'cf_fields' in kwargs:     cf_fields = kwargs.get('cf_fields')\n",
    "    else:                         cf_fields = Outputs\n",
    "\n",
    "    # Processing Rows:\n",
    "    cleaned_rows = []\n",
    "    for result in tqdm(combined_results,'Cleaning Data',total=len(combined_results),leave=False):\n",
    "        cleaned_rows.append(_clean_row(result, cf_fields))\n",
    "    \n",
    "    # To Clean, or not to Clean\n",
    "    if not clean_data:\n",
    "        return cleaned_rows\n",
    "\n",
    "    cleaned_rows_df = pd.DataFrame(cleaned_rows)\n",
    "    cleaned_data_df = _clean_dataframe(cleaned_rows_df)\n",
    "\n",
    "    if isinstance(drop,list):      return cleaned_data_df.drop(columns=drop,inplace=True)\n",
    "    else:                          return cleaned_data_df "
   ]
  },
  {
   "cell_type": "code",
   "execution_count": null,
   "metadata": {},
   "outputs": [],
   "source": [
    "#| exporti\n",
    "def search_old(search_params:dict={}, # search params for standard company fields\n",
    "            cf_search:list=[],# search params for custom fields\n",
    "            clean_data:bool = True, # Whether to clean results or not\n",
    "            cf_fields:list = [], # list of custom fields on companies you would like to include\n",
    "            drop_cols:list = None, # Columns to drop\n",
    "            )->pd.DataFrame:\n",
    "    \"\"\"Searches copper companies and returns Pandas DataFrame\"\"\"\n",
    "    \n",
    "    total_pages = page = 1\n",
    "    combined_results = []\n",
    "    \n",
    "    Sess = core.get_session()\n",
    "\n",
    "    while page <= total_pages:\n",
    "        page_params = {\n",
    "            \"page_size\": 100,\n",
    "            \"page_number\": page,\n",
    "            }\n",
    "        \n",
    "        if search_params != {}: page_params.update(search_params)\n",
    "\n",
    "        if cf_search != {}:\n",
    "            cf_addition = {\"custom_fields\":cf_search}\n",
    "            page_params.update(cf_addition) \n",
    "\n",
    "        result = Sess.post('https://api.copper.com/developer_api/v1/companies/search',json=page_params)\n",
    "    \n",
    "        if result.status_code == 200:\n",
    "            total_pages = (int(result.headers['X-PW-TOTAL'])//100)+1\n",
    "            \n",
    "            # Creatig Progress Bar:\n",
    "            if page == 1: progress_bar = tqdm(total=total_pages,desc='Searching Copper')\n",
    "            progress_bar.update(1)  # Update the progress bar\n",
    "            \n",
    "            result_json = result.json()\n",
    "            combined_results.extend(result_json)\n",
    "            page +=1\n",
    "\n",
    "        else:\n",
    "            print(f\"Issue with page {page}. Stopping.\")\n",
    "            break\n",
    "\n",
    "    progress_bar.close()  # Close the progress bar when done\n",
    "\n",
    "    if not clean_data:\n",
    "        print('Returning raw results')\n",
    "        return combined_results\n",
    " \n",
    "   \n",
    "    print('\\nData Recieved. Cleaning results:')\n",
    "\n",
    "    cleaned_data = [_clean_row(result, cf_fields) for result in combined_results]\n",
    "    cleaned_data_df = pd.DataFrame(cleaned_data)\n",
    "\n",
    "    print('Returning cleaned results')\n",
    "    if isinstance(drop_cols,list):      return cleaned_data_df.drop(columns=drop_cols,inplace=True)\n",
    "    else:                               return cleaned_data_df "
   ]
  },
  {
   "cell_type": "markdown",
   "metadata": {},
   "source": [
    "### Updating Companies"
   ]
  },
  {
   "cell_type": "code",
   "execution_count": null,
   "metadata": {},
   "outputs": [],
   "source": [
    "# | export\n",
    "\n",
    "def update(df: pd.DataFrame, columns: list, cf_ids: list = None):\n",
    "    \"\"\"\n",
    "    Function to update companies in copper using a pandas DataFrame with a column of 'id' to identify\n",
    "    companies and a list of the columns you would like to update.\n",
    "    \n",
    "    Either pass in a list of custom field ids, or a list will be created using matching column names.\n",
    "    \"\"\"\n",
    "\n",
    "    if 'id' not in df.columns: raise \n",
    "\n",
    "    if cf_ids is None:\n",
    "        cf_ids = [reverse_cf_lookup.get(col) for col in columns if col in reverse_cf_lookup]\n",
    "        columns = [col for col in columns if col in reverse_cf_lookup]\n",
    "\n",
    "    df = df[columns + ['id']]\n",
    "    prepared_data = df.set_index('id').to_dict(orient='index')\n",
    "\n",
    "    total_companies = len(df['id'])\n",
    "    companies_updated = 0\n",
    "    max_size = 10\n",
    "    Sess = get_session(headers)\n",
    "\n",
    "    progress_bar = tqdm(total=total_companies)\n",
    "\n",
    "    while companies_updated < total_companies:\n",
    "        current_batch_size = min(max_size, total_companies - companies_updated)\n",
    "        payload = []\n",
    "\n",
    "        # Loop to make `payload`\n",
    "        for idx in range(companies_updated, companies_updated + current_batch_size):\n",
    "            comp_id = int(df['id'].iloc[idx])\n",
    "\n",
    "            cf_data_list = [{'custom_field_definition_id': cf_id, 'value': prepared_data[comp_id][col]}\n",
    "                            for cf_id, col in zip(cf_ids, columns)]\n",
    "\n",
    "            company_json = {\"id\": comp_id, 'custom_fields': cf_data_list}\n",
    "            payload.append(company_json)\n",
    "\n",
    "        json_data = {\"companies\": payload}\n",
    "        request_sent = Sess.post('https://api.copper.com/developer_api/v1/companies/bulk_update', json=json_data)\n",
    "\n",
    "        if request_sent.status_code != 200:\n",
    "            print(request_sent.text)\n",
    "            break\n",
    "        else:\n",
    "            companies_updated += current_batch_size\n",
    "            progress_bar.update(current_batch_size)  # Update the progress bar\n",
    "\n",
    "    progress_bar.close()  # Close the progress bar when done\n",
    "    print('All companies updated.')"
   ]
  },
  {
   "cell_type": "code",
   "execution_count": null,
   "metadata": {},
   "outputs": [],
   "source": [
    "#| hide\n",
    "import nbdev; nbdev.nbdev_export()"
   ]
  }
 ],
 "metadata": {
  "kernelspec": {
   "display_name": "python3",
   "language": "python",
   "name": "python3"
  }
 },
 "nbformat": 4,
 "nbformat_minor": 4
}
