{
 "cells": [
  {
   "cell_type": "raw",
   "metadata": {},
   "source": [
    "---\n",
    "description: A Python package for working with the Copper API\n",
    "output-file: index.html\n",
    "title: cuapi_wrapper\n",
    "\n",
    "---\n",
    "\n"
   ]
  },
  {
   "cell_type": "code",
   "execution_count": null,
   "metadata": {},
   "outputs": [],
   "source": [
    "#| hide\n",
    "from cuapi_wrapper.core import *"
   ]
  },
  {
   "cell_type": "markdown",
   "metadata": {},
   "source": [
    "This package is designed to be a user friendly wrapper for the Copper CRM API to make interacting witth and pulling data easier."
   ]
  },
  {
   "cell_type": "markdown",
   "metadata": {},
   "source": [
    "## Install\n",
    "\n",
    "You can install the `cuapi_wrapper` package through PyPI:"
   ]
  },
  {
   "cell_type": "markdown",
   "metadata": {},
   "source": [
    "```sh\n",
    "pip install cuapi_wrapper\n",
    "```"
   ]
  },
  {
   "cell_type": "markdown",
   "metadata": {},
   "source": [
    "## How to use"
   ]
  },
  {
   "cell_type": "markdown",
   "metadata": {},
   "source": [
    "Start by importing all the modules you'll need for your project. The `cuapi_wrapper` package is broken down into seperate modules for working with companies, tasks, opportunities, users, etc.\n",
    "\n",
    "For example, if we wanted to look at **companies** in copper, we should start by importing the **copper_crm.companies** module. We can then search these companies for those who are in California:\n"
   ]
  },
  {
   "cell_type": "markdown",
   "metadata": {},
   "source": [
    "```python\n",
    "import cuapi_wrapper.companies as coppper\n",
    "\n",
    "copper.set_headers(os.environ['MY_COPPER_KEY'],'myemail@email.com)\n",
    "copper.search(search_params{'state':'CA'})\n",
    "```"
   ]
  },
  {
   "cell_type": "markdown",
   "metadata": {},
   "source": []
  }
 ],
 "metadata": {
  "kernelspec": {
   "display_name": "python3",
   "language": "python",
   "name": "python3"
  }
 },
 "nbformat": 4,
 "nbformat_minor": 4
}
