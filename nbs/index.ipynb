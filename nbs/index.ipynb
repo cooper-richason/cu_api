{
 "cells": [
  {
   "cell_type": "raw",
   "metadata": {},
   "source": [
    "---\n",
    "description: A Python package for working with the Copper API\n",
    "output-file: index.html\n",
    "title: cu_api\n",
    "\n",
    "---\n",
    "\n"
   ]
  },
  {
   "cell_type": "code",
   "execution_count": null,
   "metadata": {},
   "outputs": [],
   "source": [
    "#| hide\n",
    "from cu_api.core import *"
   ]
  },
  {
   "cell_type": "markdown",
   "metadata": {},
   "source": [
    "This package is designed to be a user friendly wrapper for the Copper CRM API to make interacting witth and pulling data easier."
   ]
  },
  {
   "cell_type": "markdown",
   "metadata": {},
   "source": [
    "## Install\n",
    "\n",
    "You can install the `cu_api` package through PyPI:"
   ]
  },
  {
   "cell_type": "markdown",
   "metadata": {},
   "source": [
    "```sh\n",
    "pip install cu_api\n",
    "```"
   ]
  },
  {
   "cell_type": "markdown",
   "metadata": {},
   "source": [
    "## How to use"
   ]
  },
  {
   "cell_type": "markdown",
   "metadata": {},
   "source": [
    "Start by importing all the modules you'll need for your project. The `cuapi_wrapper` package is broken down into seperate modules for working with companies, tasks, opportunities, users, etc.\n",
    "\n",
    "For example, if we wanted to look at **companies** in copper, we should start by importing the **copper_crm.companies** module. We can then search these companies for those who are in California:\n"
   ]
  },
  {
   "cell_type": "markdown",
   "metadata": {},
   "source": [
    "```python\n",
    "\n",
    "import cu_api.companies as companies\n",
    "\n",
    "companies.set_headers(os.environ['MY_COPPER_KEY'],'myemail@email.com')\n",
    "\n",
    "SunnyStates = companies.Query\n",
    "SunnyStates['state'] = ['CA','FL','AZ','TX']\n",
    "SunnyStates['Amenities'] = ['Pool','Beach','Hot tub']\n",
    "SunnyStates.outputs = ['Account Manager','Lifetime Spend']\n",
    "\n",
    "companies.search(SunnyStates)\n",
    "```"
   ]
  }
 ],
 "metadata": {
  "kernelspec": {
   "display_name": "python3",
   "language": "python",
   "name": "python3"
  }
 },
 "nbformat": 4,
 "nbformat_minor": 4
}
