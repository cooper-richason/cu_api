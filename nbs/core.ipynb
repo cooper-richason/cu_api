{
 "cells": [
  {
   "cell_type": "markdown",
   "metadata": {},
   "source": [
    "# core\n",
    "\n",
    "> Set of Core Functions that are shared across modules"
   ]
  },
  {
   "cell_type": "code",
   "execution_count": null,
   "metadata": {},
   "outputs": [],
   "source": [
    "#| default_exp core"
   ]
  },
  {
   "cell_type": "code",
   "execution_count": null,
   "metadata": {},
   "outputs": [],
   "source": [
    "#| hide\n",
    "from nbdev.showdoc import *"
   ]
  },
  {
   "cell_type": "markdown",
   "metadata": {},
   "source": [
    "## API Requests and Headers"
   ]
  },
  {
   "cell_type": "markdown",
   "metadata": {},
   "source": [
    "First, we need a way to easily set the header information for requests to the Copper API. I'm envisioning a process something like\n",
    "\n",
    "```python\n",
    "import cu_api\n",
    "\n",
    "cuapi_wrapper.set_headers(os.environ('COPPER_KEY'), 'my-cool-email@gmail.com')\n",
    "# rest of code...\n",
    "```\n",
    "\n",
    "To do this, let's make a system that takes in the key pieces of header information and greats global variable with all of the header information. Other functions then can use this global var."
   ]
  },
  {
   "cell_type": "code",
   "execution_count": null,
   "metadata": {},
   "outputs": [],
   "source": [
    "#| export\n",
    "import requests, json, os\n",
    "from cu_api import config\n",
    "import requests\n",
    "import pandas as pd"
   ]
  },
  {
   "cell_type": "code",
   "execution_count": null,
   "metadata": {},
   "outputs": [],
   "source": [
    "#| export\n",
    "\n",
    "def set_headers(AccessToken:str, #Access Token (API Key) provided by Copper\n",
    "                 UserEmail:str): #Email associated with your API key\n",
    "    \"\"\"\n",
    "    Sets global variable to hold header information for Copper API requests.\n",
    "    This must be set before any requests are made. See documentation for more info.\n",
    "\n",
    "    Parameters:\n",
    "    AccessToken: type=str\n",
    "        This is your Access Token provided by Copper. These can be found and created \n",
    "        under Settings > Intergrations > API Keys. \n",
    "\n",
    "    UserEmail: type=str\n",
    "        This is your the email associated with your Copper account.\n",
    "        \n",
    "    \"\"\"\n",
    "\n",
    "    assert isinstance(AccessToken, str), 'AccessToken must be a string. \\nSee help(set_headers) for more info.'\n",
    "    assert isinstance(UserEmail, str), 'UserEmail must be a string. \\nSee help(set_headers) for more info.'\n",
    "\n",
    "    config.COPPER_HEADERS = {\n",
    "        'X-PW-AccessToken':AccessToken,\n",
    "        'X-PW-Application':'developer_api',\n",
    "        'X-PW-UserEmail': UserEmail,\n",
    "        'Content-Type':'application/json'\n",
    "        }"
   ]
  },
  {
   "cell_type": "code",
   "execution_count": null,
   "metadata": {},
   "outputs": [],
   "source": [
    "#| export\n",
    "session = None\n",
    "\n",
    "def get_session(**kwargs):\n",
    "    '''\n",
    "    Function to get current session or create one if one doesn't exist. If both keyword \n",
    "    arguments are provided, then the set_headers() function is called.\n",
    "    \n",
    "    Optional Keyword Arguments:\n",
    "    \n",
    "    AccessToken: type=str\n",
    "        This is your Access Token provided by Copper. These can be found and created \n",
    "        under Settings > Integrations > API Keys. \n",
    "\n",
    "    UserEmail: type=str\n",
    "        This is your the email associated with your Copper account.\n",
    "    '''\n",
    "    \n",
    "    if 'AccessToken' in kwargs and 'UserEmail' in kwargs:\n",
    "        set_headers(kwargs.get('AccessToken'), kwargs.get('UserEmail'))\n",
    "    \n",
    "    if not hasattr(config, 'COPPER_HEADERS'):\n",
    "        raise NameError(\"Header information is not set. Please use set_header() function to do so. \\n\\nSee ?set_headers for more information.\")\n",
    "    \n",
    "    if not hasattr(config, 'SESSION') or not isinstance(config.SESSION, requests.Session):\n",
    "        # No session exists or the global variable is not of type requests.Session, create a new session\n",
    "        config.SESSION = requests.Session()\n",
    "        config.SESSION.headers.update(config.COPPER_HEADERS)  # Assuming config.COPPER_HEADERS is defined elsewhere\n",
    "    \n",
    "    return config.SESSION"
   ]
  },
  {
   "cell_type": "markdown",
   "metadata": {},
   "source": [
    "## Dealing with Custom Fields\n",
    "\n",
    "Custom Fields are a big part of the Copper CRM. They can be added to essentially every type of record, but they can be a pain to work with. We are going to need a system of functions that make this easer."
   ]
  },
  {
   "cell_type": "markdown",
   "metadata": {},
   "source": [
    "I am going to create a series of helper functions and a main function to combine the helper functions. I'm going to label all of these as \"process\" functions with the prefix \"prc_\" so that they don't show up easily to users. "
   ]
  },
  {
   "cell_type": "code",
   "execution_count": null,
   "metadata": {},
   "outputs": [],
   "source": [
    "#| export\n",
    "def prc_request_cf_data():\n",
    "    \"\"\"\n",
    "    Helpter function to request the custom field data.\n",
    "    \"\"\"\n",
    "    Sess = get_session()\n",
    "\n",
    "    try:\n",
    "        cf_request = Sess.get('https://api.copper.com/developer_api/v1/custom_field_definitions')\n",
    "        cf_request.raise_for_status()\n",
    "    except requests.exceptions.HTTPError as err:\n",
    "        raise Exception(f\"Failed to fetch custom field data: {err}\") from err\n",
    "    else:\n",
    "        custom_fields_data = cf_request.json()\n",
    "        return custom_fields_data\n",
    "\n",
    "def prc_clean_cf_data(data:json):\n",
    "    \"\"\"\n",
    "    Function to process the custom field data.\n",
    "    \"\"\"\n",
    "\n",
    "    output_dict = {}\n",
    "\n",
    "    for item in data:\n",
    "        item_dict = {}\n",
    "\n",
    "        item_dict['name'] = item.get('name')\n",
    "        item_dict['data_type'] = item.get('data_type')\n",
    "        item_dict['available_on'] = item.get('available_on')\n",
    "        item_dict['is_filterable'] = item.get('is_filterable')\n",
    "\n",
    "        if 'options' in item:\n",
    "            item_options = {}\n",
    "            for sub_item in item['options']:\n",
    "                sub_item_name = sub_item['name']\n",
    "                sub_item_id = sub_item['id']\n",
    "\n",
    "                item_options[sub_item_id] = sub_item_name\n",
    "        \n",
    "            item_dict['options'] = item_options\n",
    "        \n",
    "        item_id = item['id']\n",
    "        output_dict[item_id] = item_dict\n",
    "\n",
    "    return output_dict"
   ]
  },
  {
   "cell_type": "markdown",
   "metadata": {},
   "source": [
    "I'm going to make a function that checks if the custom field information has already been obtained and gets the data if not. I'm going to store the data in the `custom_fields` global variable."
   ]
  },
  {
   "cell_type": "code",
   "execution_count": null,
   "metadata": {},
   "outputs": [],
   "source": [
    "#| export\n",
    "\n",
    "def prc_get_cf_fields():\n",
    "    \"\"\"\n",
    "    Checks if custom_fields has been set and creates it if it hasn't been set. \n",
    "    Called by all Custom Field Functions.\n",
    "    \"\"\"\n",
    "\n",
    "    if  not hasattr(config,\"CUSTOM_FIELDS\") or not hasattr(config,\"CUSTOM_FIELDS_DICT\") or not hasattr(config,\"CF_ID_LOOKUP\"):\n",
    "        \n",
    "        raw_cf_data = prc_request_cf_data()\n",
    "        custom_fields = prc_clean_cf_data(raw_cf_data)\n",
    "    \n",
    "        # Setup Items:\n",
    "\n",
    "        custom_fields_dict = {}\n",
    "        reverse_id_lookup = {}\n",
    "\n",
    "        for key in custom_fields.keys():\n",
    "            item_name = custom_fields[key].get('name')\n",
    "            custom_fields_dict[key] = item_name\n",
    "            reverse_id_lookup[item_name] = key\n",
    "\n",
    "        custom_fields_list = list(custom_fields_dict.values())\n",
    "\n",
    "        config.CUSTOM_FIELDS = custom_fields              # Full data in JSON form\n",
    "        config.CUSTOM_FIELDS_DICT = custom_fields_dict    # ID -> Name\n",
    "        config.LIST_CF_NAMES = custom_fields_list         # List of Names\n",
    "        config.CF_ID_LOOKUP = reverse_id_lookup           # Name -> ID"
   ]
  },
  {
   "cell_type": "markdown",
   "metadata": {},
   "source": [
    "Now that we are able to get Custom Field information, let's create some functions to work with them."
   ]
  },
  {
   "cell_type": "code",
   "execution_count": null,
   "metadata": {},
   "outputs": [],
   "source": [
    "#| export\n",
    "def get_cf_info(cf_id:str,     # ID of custom field\n",
    "                cf_info:list = None,  # Designed information about field, list if multiple items\n",
    "               )->list: #Returns list if cf_info is list. Otherwise, returns value\n",
    "    \"\"\"\n",
    "    Function to get the custom field information based on the field id.\n",
    "    Can be supplied with a sigular value for 'cf_info' or multiple as a list.\n",
    "\n",
    "    Possible itmes are ['name','data_type','available_on','is_filterable','options']\n",
    "    \"\"\"\n",
    "\n",
    "    prc_get_cf_fields()\n",
    "\n",
    "    if isinstance(cf_id,str):   cf_id = int(cf_id)    \n",
    "\n",
    "    # Check if cf_info item(s) are valid\n",
    "    if not cf_info:\n",
    "        cf_info = ['name','data_type','available_on','is_filterable','options']  \n",
    "    elif isinstance(cf_info, list):\n",
    "        for item_name in cf_info:\n",
    "            # Remove faulty items:\n",
    "            if item_name not in ['name','data_type','available_on','is_filterable','options']: cf_info.pop(item_name)\n",
    "            \n",
    "            # Cancel function if no valid items\n",
    "            if len(cf_info) == 0: return None\n",
    "    elif cf_info not in ['name','data_type','available_on','is_filterable','options']:\n",
    "        print(f'Invalid cf_info: {cf_info}'); return None\n",
    "\n",
    "    if isinstance(cf_info,list):\n",
    "        return_list = []\n",
    "        for item_name in cf_info:\n",
    "            value = config.CUSTOM_FIELDS[cf_id].get(item_name)\n",
    "            return_list.append(value)\n",
    "        return return_list\n",
    "    else:\n",
    "        value = config.CUSTOM_FIELDS[cf_id].get(cf_info)\n",
    "        return value\n",
    "\n",
    "def get_cf_options(cf_id:int, #Coppper ID for custom field\n",
    "    )->dict: # Returns dictionary of options for field\n",
    "    return config.CUSTOM_FIELDS.get(cf_id).get('options')\n",
    "\n",
    "def cf_option_name(cf_id:int, #Coppper ID for custom field\n",
    "                   option_id:int, #Coppper ID for option\n",
    "                  )->str: #Returns name/value of option\n",
    "    return get_cf_options(cf_id).get(option_id)\n"
   ]
  },
  {
   "cell_type": "code",
   "execution_count": null,
   "metadata": {},
   "outputs": [],
   "source": [
    "#| export\n",
    "def _search_loop(search_query, # Instance of Query object\n",
    "                 url, # Copper API url\n",
    "                )->pd.DataFrame:\n",
    "    \"\"\"Standard search loop used across all Copper record types\n",
    "    \"\"\"\n",
    "    \n",
    "    Sess = core.get_session()\n",
    "\n",
    "    Native_Parmas, CF_Parmsm  = process_query(search_query)\n",
    "\n",
    "    total_pages = page = 1\n",
    "    combined_results = []\n",
    "    \n",
    "    while page <= total_pages:\n",
    "        page_params = {\n",
    "            \"page_size\": 100,\n",
    "            \"page_number\": page,\n",
    "            }\n",
    "        \n",
    "        if Native_Parmas: page_params.update(Native_Parmas)\n",
    "\n",
    "        if CF_Parmsm:     page_params.update({\"custom_fields\":CF_Parmsm}) \n",
    "\n",
    "        result = Sess.post(url,json=page_params)\n",
    "    \n",
    "        if result.status_code == 200:\n",
    "            total_pages = (int(result.headers['X-PW-TOTAL'])//100)+1\n",
    "            \n",
    "            # Creatig Progress Bar:\n",
    "            if page == 1: progress_bar = tqdm(total=total_pages,desc='Searching Copper')\n",
    "            progress_bar.update(1)  # Update the progress bar\n",
    "            \n",
    "            result_json = result.json()\n",
    "            combined_results.extend(result_json)\n",
    "            page +=1\n",
    "\n",
    "        else:\n",
    "            print(f\"Issue with page {page}. Stopping.\")\n",
    "            combined_results = None\n",
    "            break\n",
    "    \n",
    "    progress_bar.close()  # Close the progress bar when done\n",
    "    \n",
    "    return combined_results\n"
   ]
  },
  {
   "cell_type": "code",
   "execution_count": null,
   "metadata": {},
   "outputs": [],
   "source": [
    "#| hide\n",
    "import nbdev; nbdev.nbdev_export()"
   ]
  }
 ],
 "metadata": {
  "kernelspec": {
   "display_name": "Python 3 (ipykernel)",
   "language": "python",
   "name": "python3"
  },
  "language_info": {
   "codemirror_mode": {
    "name": "ipython",
    "version": 3
   },
   "file_extension": ".py",
   "mimetype": "text/x-python",
   "name": "python",
   "nbconvert_exporter": "python",
   "pygments_lexer": "ipython3",
   "version": "3.10.13"
  }
 },
 "nbformat": 4,
 "nbformat_minor": 4
}
