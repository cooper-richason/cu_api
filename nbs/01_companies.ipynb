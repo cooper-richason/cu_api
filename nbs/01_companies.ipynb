{
 "cells": [
  {
   "cell_type": "markdown",
   "metadata": {},
   "source": [
    "# companies\n",
    "\n",
    "> Set of functions for dealing with Copper companies"
   ]
  },
  {
   "cell_type": "code",
   "execution_count": null,
   "metadata": {},
   "outputs": [],
   "source": [
    "#| default_exp companies"
   ]
  },
  {
   "cell_type": "code",
   "execution_count": 9,
   "metadata": {},
   "outputs": [],
   "source": [
    "#| hide\n",
    "from nbdev.showdoc import *"
   ]
  },
  {
   "cell_type": "code",
   "execution_count": 4,
   "metadata": {},
   "outputs": [],
   "source": [
    "#| export\n",
    "from cuapi_wrapper import core\n",
    "from cuapi_wrapper.core import set_headers\n",
    "import pandas as pd\n",
    "import pytz\n",
    "from tqdm import tqdm"
   ]
  },
  {
   "cell_type": "code",
   "execution_count": 2,
   "metadata": {},
   "outputs": [],
   "source": [
    "#| export\n",
    "def prc_clean_company_data(company_data:list, #Returned company data as list of dictionaries,\n",
    "                          cf_fields:list = [], # list of custom fields on companies you would like to include\n",
    "):\n",
    "    \"\"\"Process to clean returned company data\"\"\"\n",
    "\n",
    "    core.prc_cf_dicts()\n",
    "\n",
    "    global custom_fields\n",
    "    custom_fields = core.get_global_var('custom_fields')\n",
    "    custom_fields_dict = core.get_global_var('custom_fields_dict')\n",
    "    \n",
    "\n",
    "    def clean_date(date):\n",
    "        try:\n",
    "            if date is None:\n",
    "                return None  # Handle None values (empty rows)\n",
    "\n",
    "            if isinstance(date, int) and len(str(date)) >= 6 and len(str(date)) <= 10:\n",
    "                # If it's an integer with <= 10 digits, assume it's a Unix timestamp\n",
    "                ct_timezone = pytz.timezone('US/Central')\n",
    "                new_date = pd.to_datetime(date, unit='s',utc=True).tz_convert(ct_timezone)\n",
    "                return new_date\n",
    "            else:\n",
    "                return date\n",
    "        except Exception as e:\n",
    "            return date\n",
    "\n",
    "    native_items = ['id', 'name', 'address', 'assignee_id', 'contact_type_id']\n",
    "\n",
    "    output_dict = {}\n",
    "\n",
    "    for item in native_items:\n",
    "        output_dict[item] = company_data.get(item, None)\n",
    "    \n",
    "    custom_field_data = company_data['custom_fields']\n",
    "\n",
    "    for dict_item in custom_field_data:\n",
    "        item_id = dict_item['custom_field_definition_id']\n",
    "        item_name = custom_fields_dict.get(item_id, None)\n",
    "        data_type = custom_fields[item_id].get('data_type')\n",
    "\n",
    "        if item_name not in cf_fields or item_name is None:\n",
    "            continue\n",
    "        elif item_name is not None and ('options' in list(custom_fields[item_id].keys())):\n",
    "            item_value = dict_item['value']\n",
    "            value_name = core.cf_option_name(item_id,item_value)\n",
    "            output_dict[item_name] = value_name\n",
    "        elif data_type == 'Date':\n",
    "            cleaned_date = clean_date(dict_item['value'])\n",
    "            output_dict[item_name] = cleaned_date\n",
    "        else:\n",
    "            item_value = dict_item['value']\n",
    "            output_dict[item_name] = item_value\n",
    "\n",
    "    return output_dict"
   ]
  },
  {
   "cell_type": "code",
   "execution_count": 7,
   "metadata": {},
   "outputs": [],
   "source": [
    "#| export\n",
    "def search(search_params:dict={}, # search params for standard company fields\n",
    "            cf_search:list=[],# search params for custom fields\n",
    "            clean_data:bool = True, # Whether to clean results or not\n",
    "            cf_fields:list = [], # list of custom fields on companies you would like to include\n",
    "            drop_cols:list = None, # Columns to drop\n",
    "            )->pd.DataFrame:\n",
    "    \"\"\"Searches copper companies and returns Pandas DataFrame\"\"\"\n",
    "\n",
    "    global copper_headers\n",
    "\n",
    "    if \"copper_headers\" not in globals() and core.get_global_var('copper_headers') is None:\n",
    "        raise ValueError('header information must be set with set_headers(). \\nSee help(core.set_headers) for more info.')\n",
    "    \n",
    "    if \"copper_headers\" not in globals() and core.get_global_var('copper_headers') is not None:\n",
    "        copper_headers = core.get_global_var('copper_headers')\n",
    "    \n",
    "    total_pages = page = 1\n",
    "    combined_results = []\n",
    "    \n",
    "    Sess = core.get_session(copper_headers)\n",
    "\n",
    "    while page <= total_pages:\n",
    "        page_params = {\n",
    "            \"page_size\": 100,\n",
    "            \"page_number\": page,\n",
    "            }\n",
    "        \n",
    "        if search_params != {}: page_params.update(search_params)\n",
    "\n",
    "        if cf_search != {}:\n",
    "            cf_addition = {\"custom_fields\":cf_search}\n",
    "            page_params.update(cf_addition) \n",
    "\n",
    "        result = Sess.post('https://api.copper.com/developer_api/v1/companies/search',json=page_params)\n",
    "    \n",
    "        if result.status_code == 200:\n",
    "            total_pages = (int(result.headers['X-PW-TOTAL'])//100)+1\n",
    "            \n",
    "            # Creatig Progress Bar:\n",
    "            if page == 1: progress_bar = tqdm(total=total_pages,desc='Searching Copper')\n",
    "            progress_bar.update(1)  # Update the progress bar\n",
    "            \n",
    "            result_json = result.json()\n",
    "            combined_results.extend(result_json)\n",
    "            page +=1\n",
    "\n",
    "        else:\n",
    "            print(f\"Issue with page {page}. Stopping.\")\n",
    "            break\n",
    "\n",
    "    progress_bar.close()  # Close the progress bar when done\n",
    "\n",
    "    if not clean_data:\n",
    "        print('Returning raw results')\n",
    "        return combined_results\n",
    " \n",
    "   \n",
    "    print('\\nData Recieved. Cleaning results:')\n",
    "\n",
    "    cleaned_data = [prc_clean_company_data(result, cf_fields) for result in combined_results]\n",
    "    cleaned_data_df = pd.DataFrame(cleaned_data)\n",
    "\n",
    "    print('Returning cleaned results')\n",
    "    if isinstance(drop_cols,list):      return cleaned_data_df.drop(columns=drop_cols,inplace=True)\n",
    "    else:                               return cleaned_data_df "
   ]
  },
  {
   "cell_type": "markdown",
   "metadata": {},
   "source": [
    "### Searching Copper Companies\n",
    "\n",
    "Working with Copper Companies is a core feature of cuapi_wrapper and is done with the `companies.search` function."
   ]
  },
  {
   "cell_type": "code",
   "execution_count": 12,
   "metadata": {},
   "outputs": [
    {
     "data": {
      "text/markdown": [
       "---\n",
       "\n",
       "[source](https://github.com/cooper-richason/cuapi-wrapper/blob/main/cuapi_wrapper/companies.py#L85){target=\"_blank\" style=\"float:right; font-size:smaller\"}\n",
       "\n",
       "### search\n",
       "\n",
       ">      search (search_params:dict={}, cf_search:list=[], clean_data:bool=True,\n",
       ">              cf_fields:list=[], drop_cols:list=None)\n",
       "\n",
       "Searches copper companies and returns Pandas DataFrame\n",
       "\n",
       "|    | **Type** | **Default** | **Details** |\n",
       "| -- | -------- | ----------- | ----------- |\n",
       "| search_params | dict | {} | search params for standard company fields |\n",
       "| cf_search | list | [] | search params for custom fields |\n",
       "| clean_data | bool | True | Whether to clean results or not |\n",
       "| cf_fields | list | [] | list of custom fields on companies you would like to include |\n",
       "| drop_cols | list | None | Columns to drop |\n",
       "| **Returns** | **DataFrame** |  |  |"
      ],
      "text/plain": [
       "---\n",
       "\n",
       "[source](https://github.com/cooper-richason/cuapi-wrapper/blob/main/cuapi_wrapper/companies.py#L85){target=\"_blank\" style=\"float:right; font-size:smaller\"}\n",
       "\n",
       "### search\n",
       "\n",
       ">      search (search_params:dict={}, cf_search:list=[], clean_data:bool=True,\n",
       ">              cf_fields:list=[], drop_cols:list=None)\n",
       "\n",
       "Searches copper companies and returns Pandas DataFrame\n",
       "\n",
       "|    | **Type** | **Default** | **Details** |\n",
       "| -- | -------- | ----------- | ----------- |\n",
       "| search_params | dict | {} | search params for standard company fields |\n",
       "| cf_search | list | [] | search params for custom fields |\n",
       "| clean_data | bool | True | Whether to clean results or not |\n",
       "| cf_fields | list | [] | list of custom fields on companies you would like to include |\n",
       "| drop_cols | list | None | Columns to drop |\n",
       "| **Returns** | **DataFrame** |  |  |"
      ]
     },
     "execution_count": 12,
     "metadata": {},
     "output_type": "execute_result"
    }
   ],
   "source": [
    "show_doc(search)"
   ]
  },
  {
   "cell_type": "markdown",
   "metadata": {},
   "source": [
    "#### API Resonse Cleaning\n",
    "\n",
    "By default, `companies.search` cleans the response data from Copper using `prc_clean_company_data`. This process does several key things:\n",
    "\n",
    "1. \n"
   ]
  },
  {
   "cell_type": "code",
   "execution_count": null,
   "metadata": {},
   "outputs": [],
   "source": [
    "#| hide\n",
    "import nbdev; nbdev.nbdev_export()"
   ]
  }
 ],
 "metadata": {
  "kernelspec": {
   "display_name": "python3",
   "language": "python",
   "name": "python3"
  },
  "language_info": {
   "codemirror_mode": {
    "name": "ipython",
    "version": 3
   },
   "file_extension": ".py",
   "mimetype": "text/x-python",
   "name": "python",
   "nbconvert_exporter": "python",
   "pygments_lexer": "ipython3",
   "version": "3.10.13"
  }
 },
 "nbformat": 4,
 "nbformat_minor": 4
}
