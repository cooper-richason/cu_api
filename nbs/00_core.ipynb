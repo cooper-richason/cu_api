{
 "cells": [
  {
   "cell_type": "markdown",
   "metadata": {},
   "source": [
    "# core\n",
    "\n",
    "> Set of Core Functions that are shared across modules"
   ]
  },
  {
   "cell_type": "code",
   "execution_count": null,
   "metadata": {},
   "outputs": [],
   "source": [
    "#| default_exp core"
   ]
  },
  {
   "cell_type": "code",
   "execution_count": null,
   "metadata": {},
   "outputs": [],
   "source": [
    "#| hide\n",
    "from nbdev.showdoc import *\n",
    "import requests"
   ]
  },
  {
   "cell_type": "markdown",
   "metadata": {},
   "source": [
    "## API Requests and Headers"
   ]
  },
  {
   "cell_type": "markdown",
   "metadata": {},
   "source": [
    "First, we need a way to easily set the header information for requests to the Copper API. I'm envisioning a process something like\n",
    "\n",
    "```python\n",
    "import cuapi_wrapper\n",
    "\n",
    "cuapi_wrapper.set_headers(os.environ('COPPER_KEY'), 'my-cool-email@gmail.com')\n",
    "# rest of code...\n",
    "```\n",
    "\n",
    "To do this, let's make a system that takes in the key pieces of header information and greats global variable with all of the header information. Other functions then can use this global var."
   ]
  },
  {
   "cell_type": "code",
   "execution_count": null,
   "metadata": {},
   "outputs": [],
   "source": [
    "#| export\n",
    "import requests, json, os\n",
    "\n",
    "def set_headers(AccessToken:str, #Access Token (API Key) provided by Copper\n",
    "                 UserEmail:str): #Email associated with your API key\n",
    "    '''\n",
    "    Sets global variable to hold header information for Copper API requests.\n",
    "    This must be set before any requests are made. See documentation for more info.\n",
    "\n",
    "    Parameters:\n",
    "    AccessToken: type=str\n",
    "        This is your Access Token provided by Copper. These can be found and created \n",
    "        under Settings > Intergrations > API Keys. \n",
    "\n",
    "    UserEmail: type=str\n",
    "        This is your the email associated with your Copper account.\n",
    "        \n",
    "    '''\n",
    "    global copper_headers\n",
    "    assert isinstance(AccessToken, str), 'AccessToken must be a string. \\nSee help(set_headers) for more info.'\n",
    "    assert isinstance(UserEmail, str), 'UserEmail must be a string. \\nSee help(set_headers) for more info.'\n",
    "\n",
    "    copper_headers = {\n",
    "    'X-PW-AccessToken':AccessToken,\n",
    "    'X-PW-Application':'developer_api',\n",
    "    'X-PW-UserEmail': UserEmail,\n",
    "    'Content-Type':'application/json'\n",
    "    }"
   ]
  },
  {
   "cell_type": "code",
   "execution_count": null,
   "metadata": {},
   "outputs": [],
   "source": [
    "#| export\n",
    "session = None\n",
    "\n",
    "def get_session(header_data:dict):\n",
    "    '''\n",
    "    Function to get current session or create one if one doesn't exist.\n",
    "\n",
    "    Parameters:\n",
    "    header_data: type=dict\n",
    "    '''\n",
    "    assert isinstance(header_data, dict), 'header information must be passed in or set with set_headers(). \\nSee help(set_headers) for more info.'\n",
    "    \n",
    "    global session\n",
    "\n",
    "    if not session or not isinstance(session, requests.Session):\n",
    "        # No session exists or the global variable is not of type requests.Session, create a new session\n",
    "        session = requests.Session()\n",
    "        session.headers.update(header_data)\n",
    "    \n",
    "    return session"
   ]
  },
  {
   "cell_type": "markdown",
   "metadata": {},
   "source": [
    "Example use:"
   ]
  },
  {
   "cell_type": "code",
   "execution_count": null,
   "metadata": {},
   "outputs": [
    {
     "data": {
      "text/plain": [
       "requests.sessions.Session"
      ]
     },
     "execution_count": null,
     "metadata": {},
     "output_type": "execute_result"
    }
   ],
   "source": [
    "my_sess = get_session({'name':'Cooper Richason'})\n",
    "type(my_sess)"
   ]
  },
  {
   "cell_type": "markdown",
   "metadata": {},
   "source": [
    "## Setting and Retrieving Global Variables:"
   ]
  },
  {
   "cell_type": "markdown",
   "metadata": {},
   "source": [
    "We will need to be able to set and retireve global variables across the modules. Let's do that with these the following functions:\n",
    "1. A function to set global variables in core.py.\n",
    "2. A function for the other modules to retireve global variables from core.py"
   ]
  },
  {
   "cell_type": "code",
   "execution_count": null,
   "metadata": {},
   "outputs": [],
   "source": [
    "#| export\n",
    "\n",
    "def set_global_var(value, var_name:str):\n",
    "    \"\"\"Function to add a global variable to the Module\"\"\"\n",
    "    globals()[var_name] = value\n",
    "\n",
    "def get_global_var(var_name:str):\n",
    "    \"\"\"\n",
    "    Retrieves a global variable by its name.\n",
    "\n",
    "    Parameters:\n",
    "    var_name (str): The name of the global variable to retrieve.\n",
    "\n",
    "    Returns:\n",
    "    The value of the global variable, or None if not found.\n",
    "    \"\"\"\n",
    "    return globals().get(var_name, None)"
   ]
  },
  {
   "cell_type": "markdown",
   "metadata": {},
   "source": [
    "## Dealing with Custom Fields\n",
    "\n",
    "Custom Fields are a big part of the Copper CRM. They can be added to essentially every type of record, but they can be a pain to work with. We are going to need a system of functions that make this easer."
   ]
  },
  {
   "cell_type": "markdown",
   "metadata": {},
   "source": [
    "I am going to create a series of helper functions and a main function to combine the helper functions. I'm going to label all of these as \"process\" functions with the prefix \"prc_\" so that they don't show up easily to users. "
   ]
  },
  {
   "cell_type": "code",
   "execution_count": null,
   "metadata": {},
   "outputs": [],
   "source": [
    "#| export\n",
    "def prc_request_cf_data():\n",
    "    \"\"\"\n",
    "    Helpter function to request the custom field data.\n",
    "    \"\"\"\n",
    "    # Fetching custom fields:\n",
    "    global copper_headers\n",
    "    Sess = get_session(copper_headers)\n",
    "\n",
    "    try:\n",
    "        cf_request = Sess.get('https://api.copper.com/developer_api/v1/custom_field_definitions')\n",
    "        cf_request.raise_for_status()\n",
    "    except requests.exceptions.HTTPError as err:\n",
    "        raise Exception(f\"Failed to fetch custom field data: {err}\") from err\n",
    "    else:\n",
    "        custom_fields_data = cf_request.json()\n",
    "        return custom_fields_data\n",
    "\n",
    "def prc_clean_cf_data(data:json):\n",
    "    \"\"\"\n",
    "    Function to process the custom field data.\n",
    "    \"\"\"\n",
    "\n",
    "    custom_field_dict = {}\n",
    "\n",
    "    for item in data:\n",
    "        item_dict = {}\n",
    "\n",
    "        item_dict['name'] = item.get('name')\n",
    "        item_dict['data_type'] = item.get('data_type')\n",
    "        item_dict['available_on'] = item.get('available_on')\n",
    "        item_dict['is_filterable'] = item.get('is_filterable')\n",
    "        \n",
    "\n",
    "        if 'options' in item:\n",
    "            item_options = {}\n",
    "            for sub_item in item['options']:\n",
    "                sub_item_name = sub_item['name']\n",
    "                sub_item_id = sub_item['id']\n",
    "\n",
    "                item_options[sub_item_id] = sub_item_name\n",
    "        \n",
    "            item_dict['options'] = item_options\n",
    "        \n",
    "        item_id = item['id']\n",
    "        custom_field_dict[item_id] = item_dict\n",
    "\n",
    "    return custom_field_dict"
   ]
  },
  {
   "cell_type": "markdown",
   "metadata": {},
   "source": [
    "I'm going to make a function that checks if the custom field information has already been obtained and gets the data if not. I'm going to store the data in the `custom_fields` global variable."
   ]
  },
  {
   "cell_type": "code",
   "execution_count": null,
   "metadata": {},
   "outputs": [],
   "source": [
    "#| export\n",
    "\n",
    "def prc_get_cf_fields():\n",
    "    \"\"\"\n",
    "    Checks if custom_fields has been set and creates it if it hasn't been set.\n",
    "    \"\"\"\n",
    "\n",
    "    if \"custom_fields\" not in globals():\n",
    "        global custom_fields\n",
    "        cf_data = prc_request_cf_data()\n",
    "        custom_fields = prc_clean_cf_data(cf_data)\n",
    "        set_global_var(custom_fields, 'custom_fields')"
   ]
  },
  {
   "cell_type": "markdown",
   "metadata": {},
   "source": [
    "Now that we are able to get Custom Field information, let's create some functions to work with them."
   ]
  },
  {
   "cell_type": "code",
   "execution_count": null,
   "metadata": {},
   "outputs": [],
   "source": [
    "#| export\n",
    "def get_cf_info(cf_id:str,     # ID of custom field\n",
    "                cf_info:list,  # Designed information about field, list if multiple items\n",
    ")->list: #Returns list if cf_info is list. Otherwise, returns value\n",
    "    \"\"\"\n",
    "    Function to get the custom field information based on the field id.\n",
    "    Can be supplied with a sigular value for 'cf_info' or multiple as a list.\n",
    "    \"\"\"\n",
    "\n",
    "    prc_get_cf_fields()\n",
    "    global custom_fields\n",
    "\n",
    "    if isinstance(cf_id,str):  cf_id = int(cf_id)      \n",
    "\n",
    "    # Check if cf_info item(s) are valid\n",
    "    if isinstance(cf_info, list):\n",
    "        for item_name in cf_info:\n",
    "            # Remove faulty items:\n",
    "            if item_name not in ['name','data_type','available_on','is_filterable','options']: cf_info.pop(item_name)\n",
    "            \n",
    "            # Cancel function if no valid items\n",
    "            if len(cf_info) == 0: return None\n",
    "    elif cf_info not in ['name','data_type','available_on','is_filterable','options']:\n",
    "        print(f'Invalid cf_info: {cf_info}'); return None\n",
    "\n",
    "    if isinstance(cf_info,list):\n",
    "        return_list = []\n",
    "        for item_name in cf_info:\n",
    "            value = custom_fields[cf_id].get(item_name)\n",
    "            return_list.append(value)\n",
    "        return return_list\n",
    "    else:\n",
    "        value = custom_fields[cf_id].get(cf_info)\n",
    "        return value\n",
    "\n",
    "def get_cf_options(cf_id:str, #Coppper ID for custom field\n",
    ")->dict: # Returns dictionary of options for field\n",
    "    return custom_fields.get(cf_id).get('options')\n",
    "\n",
    "def cf_option_name(cf_id:str, #Coppper ID for custom field\n",
    "option_id:str, #Coppper ID for option\n",
    ")->str: #Returns name/value of option\n",
    "    return get_cf_options(cf_id).get(option_id)\n",
    "\n",
    "def prc_cf_dicts():\n",
    "    \"\"\"Helper function to get dictionaries and lists of custom fields\"\"\"\n",
    "    prc_get_cf_fields()\n",
    "    global custom_fields_dict, reverse_cf_lookup, custom_fields_list\n",
    "\n",
    "    custom_fields_dict = {}\n",
    "    reverse_cf_lookup = {}\n",
    "\n",
    "    for item in custom_fields.keys():\n",
    "        item_name = custom_fields[item].get('name')\n",
    "        custom_fields_dict[item] = item_name\n",
    "        reverse_cf_lookup[item_name] = item\n",
    "\n",
    "    custom_fields_list = list(custom_fields_dict.values())"
   ]
  },
  {
   "cell_type": "code",
   "execution_count": null,
   "metadata": {},
   "outputs": [],
   "source": [
    "#| hide\n",
    "import nbdev; nbdev.nbdev_export()"
   ]
  }
 ],
 "metadata": {
  "kernelspec": {
   "display_name": "Python 3 (ipykernel)",
   "language": "python",
   "name": "python3"
  },
  "language_info": {
   "codemirror_mode": {
    "name": "ipython",
    "version": 3
   },
   "file_extension": ".py",
   "mimetype": "text/x-python",
   "name": "python",
   "nbconvert_exporter": "python",
   "pygments_lexer": "ipython3",
   "version": "3.10.13"
  }
 },
 "nbformat": 4,
 "nbformat_minor": 4
}
