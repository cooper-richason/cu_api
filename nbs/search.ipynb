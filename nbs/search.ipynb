{
 "cells": [
  {
   "cell_type": "markdown",
   "metadata": {},
   "source": [
    "# Search\n",
    "\n",
    "> Set of Core Functions that are shared across modules"
   ]
  },
  {
   "cell_type": "code",
   "execution_count": null,
   "metadata": {},
   "outputs": [],
   "source": [
    "#| default_exp search"
   ]
  },
  {
   "cell_type": "code",
   "execution_count": null,
   "metadata": {},
   "outputs": [],
   "source": [
    "#| hide\n",
    "from nbdev.showdoc import *"
   ]
  },
  {
   "cell_type": "markdown",
   "metadata": {},
   "source": [
    "## API Requests and Headers"
   ]
  },
  {
   "cell_type": "markdown",
   "metadata": {},
   "source": [
    "First, we need a way to easily set the header information for requests to the Copper API. I'm envisioning a process something like\n",
    "\n",
    "```python\n",
    "import cu_api\n",
    "\n",
    "cuapi_wrapper.set_headers(os.environ('COPPER_KEY'), 'my-cool-email@gmail.com')\n",
    "# rest of code...\n",
    "```\n",
    "\n",
    "To do this, let's make a system that takes in the key pieces of header information and greats global variable with all of the header information. Other functions then can use this global var."
   ]
  },
  {
   "cell_type": "code",
   "execution_count": null,
   "metadata": {},
   "outputs": [],
   "source": [
    "#| export\n",
    "import requests, time\n",
    "from cu_api import core, config\n",
    "from cu_api.query import _process_query\n",
    "from tqdm.autonotebook import tqdm"
   ]
  },
  {
   "cell_type": "code",
   "execution_count": null,
   "metadata": {},
   "outputs": [],
   "source": [
    "#| export\n",
    "def _search_loop(search_query, # Instance of Query object\n",
    "                 url, # Copper API url,\n",
    "                 max_retries:int = 5, # Maximum retry attempts\n",
    "                 retry_delay:float = 2.0, # Delay in seconds between retries,\n",
    "                 **kwags\n",
    "                ):\n",
    "    \"\"\"Standard search loop used across all Copper record types\n",
    "    \"\"\"\n",
    "    if 'debug' in kwags.keys(): debug = kwags['debug']\n",
    "    else:                       debug = False\n",
    "\n",
    "    if 'tqmd' in kwags.keys(): tqmd_msg = f\"Searching Copper: {kwags['tqmd']}\"\n",
    "    else:                      tqmd_msg = \"Searching Copper\"\n",
    "\n",
    "    Sess = core.get_session()\n",
    "\n",
    "    Native_Params, CF_Parms, Outputs  = _process_query(search_query)\n",
    "    if debug: print(f\"Native_Params: {Native_Params}\")\n",
    "    if debug: print(f\"CF_Params: {CF_Parms}\")\n",
    "\n",
    "    total_pages = page = 1\n",
    "    combined_results = []\n",
    "    \n",
    "    while page <= total_pages:\n",
    "        page_params = {\n",
    "            \"page_size\": 100,\n",
    "            \"page_number\": page,\n",
    "            }\n",
    "        \n",
    "        if Native_Params: page_params.update(Native_Params)\n",
    "\n",
    "        if CF_Parms:     page_params.update({\"custom_fields\":CF_Parms}) \n",
    "        if debug: print(f'Payload: {page_params}')\n",
    "\n",
    "        retries = 0\n",
    "        while retries < max_retries:\n",
    "            result = Sess.post(url,json=page_params)\n",
    "    \n",
    "            if result.status_code == 200:\n",
    "                total_pages = (int(result.headers['X-PW-TOTAL'])//100)+1\n",
    "                \n",
    "                # Creatig Progress Bar:\n",
    "                if page == 1: progress_bar = tqdm(total=total_pages,desc=tqmd_msg)\n",
    "                progress_bar.update(1)  # Update the progress bar\n",
    "                \n",
    "                result_json = result.json()\n",
    "                combined_results.extend(result_json)\n",
    "                page +=1\n",
    "                break\n",
    "            elif result.status_code == 429:\n",
    "                retries += 1\n",
    "                #print(f\"Rate limit encountered. Retry {retries}/{max_retries} in {retry_delay} seconds.\")\n",
    "                time.sleep(retry_delay)\n",
    "            else:\n",
    "                print(f\"Issue with page {page}\")\n",
    "                raise Exception(f\"Error {result.status_code} retrieved from API\")\n",
    "    \n",
    "    progress_bar.close()  # Close the progress bar when done\n",
    "    \n",
    "    return combined_results, Outputs\n"
   ]
  },
  {
   "cell_type": "code",
   "execution_count": null,
   "metadata": {},
   "outputs": [],
   "source": [
    "#| export\n",
    "\n",
    "def search_over_field(field:str,\n",
    "                      url:str,\n",
    "                      search_query):\n",
    "    \n",
    "    combined_results = []\n",
    "    list_names = search_query[field]\n",
    "\n",
    "    for value in list_names:\n",
    "        search_query[field] = value\n",
    "\n",
    "        name_results, Outputs = _search_loop(search_query= search_query, url= url, tqmd= f\"'{field}' is '{value}'\")\n",
    "        combined_results.extend(name_results)\n",
    "    return combined_results, Outputs"
   ]
  },
  {
   "cell_type": "code",
   "execution_count": null,
   "metadata": {},
   "outputs": [
    {
     "data": {
      "text/markdown": [
       "---\n",
       "\n",
       "[source](https://github.com/cooper-richason/cu_api/blob/main/cu_api/search.py#L13){target=\"_blank\" style=\"float:right; font-size:smaller\"}\n",
       "\n",
       "### _search_loop\n",
       "\n",
       ">      _search_loop (search_query, url, max_retries:int=5,\n",
       ">                    retry_delay:float=2.0, **kwags)\n",
       "\n",
       "*Standard search loop used across all Copper record types*\n",
       "\n",
       "|    | **Type** | **Default** | **Details** |\n",
       "| -- | -------- | ----------- | ----------- |\n",
       "| search_query |  |  | Instance of Query object |\n",
       "| url |  |  | Copper API url, |\n",
       "| max_retries | int | 5 | Maximum retry attempts |\n",
       "| retry_delay | float | 2.0 | Delay in seconds between retries, |\n",
       "| kwags |  |  |  |"
      ],
      "text/plain": [
       "---\n",
       "\n",
       "[source](https://github.com/cooper-richason/cu_api/blob/main/cu_api/search.py#L13){target=\"_blank\" style=\"float:right; font-size:smaller\"}\n",
       "\n",
       "### _search_loop\n",
       "\n",
       ">      _search_loop (search_query, url, max_retries:int=5,\n",
       ">                    retry_delay:float=2.0, **kwags)\n",
       "\n",
       "*Standard search loop used across all Copper record types*\n",
       "\n",
       "|    | **Type** | **Default** | **Details** |\n",
       "| -- | -------- | ----------- | ----------- |\n",
       "| search_query |  |  | Instance of Query object |\n",
       "| url |  |  | Copper API url, |\n",
       "| max_retries | int | 5 | Maximum retry attempts |\n",
       "| retry_delay | float | 2.0 | Delay in seconds between retries, |\n",
       "| kwags |  |  |  |"
      ]
     },
     "execution_count": null,
     "metadata": {},
     "output_type": "execute_result"
    }
   ],
   "source": [
    "show_doc(_search_loop)"
   ]
  },
  {
   "cell_type": "code",
   "execution_count": null,
   "metadata": {},
   "outputs": [],
   "source": [
    "#| export\n",
    "def get_owners(assignee_ids:list)-> dict:\n",
    "    Sess = core.get_session()\n",
    "    assignee_dict = {}\n",
    "\n",
    "    for userid in assignee_ids:\n",
    "        results = Sess.get(f\"https://api.copper.com/developer_api/v1/users/{int(userid)}\")\n",
    "        assignee_dict[userid] = results.json().get('name', None)\n",
    "\n",
    "    return assignee_dict"
   ]
  },
  {
   "cell_type": "code",
   "execution_count": null,
   "metadata": {},
   "outputs": [],
   "source": [
    "#| hide\n",
    "import nbdev; nbdev.nbdev_export()"
   ]
  }
 ],
 "metadata": {
  "kernelspec": {
   "display_name": "python3",
   "language": "python",
   "name": "python3"
  }
 },
 "nbformat": 4,
 "nbformat_minor": 4
}
