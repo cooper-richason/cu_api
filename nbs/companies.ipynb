{
 "cells": [
  {
   "cell_type": "markdown",
   "metadata": {},
   "source": [
    "# companies\n",
    "\n",
    "> Set of functions for dealing with Copper companies"
   ]
  },
  {
   "cell_type": "code",
   "execution_count": null,
   "metadata": {},
   "outputs": [],
   "source": [
    "#| default_exp companies"
   ]
  },
  {
   "cell_type": "code",
   "execution_count": 9,
   "metadata": {},
   "outputs": [],
   "source": [
    "#| hide\n",
    "from nbdev.showdoc import *"
   ]
  },
  {
   "cell_type": "code",
   "execution_count": 4,
   "metadata": {},
   "outputs": [],
   "source": [
    "#| export\n",
    "from cu_api import core, config\n",
    "from cu_aup.query import Query\n",
    "from cu_api.core import set_headers\n",
    "import pandas as pd\n",
    "import pytz\n",
    "from tqdm import tqdm"
   ]
  },
  {
   "cell_type": "code",
   "execution_count": 2,
   "metadata": {},
   "outputs": [],
   "source": [
    "#| export\n",
    "def _clean_company_data(company_data:list, #Returned company data as list of dictionaries,\n",
    "                        Output_CF:list = [], # list of custom fields to include in export\n",
    "                       ):\n",
    "    \"\"\"Process to clean returned company data\"\"\"\n",
    "\n",
    "    core.prc_cf_dicts()\n",
    "\n",
    "    custom_fields = getattr(config,'CUSTOM_FIELDS')\n",
    "    custom_fields_dict = getattr(config,'CUSTOM_FIELDS_DICT')\n",
    "    \n",
    "\n",
    "    def clean_date(date):\n",
    "        try:\n",
    "            if date is None:\n",
    "                return None  # Handle None values (empty rows)\n",
    "\n",
    "            if isinstance(date, int) and len(str(date)) >= 6 and len(str(date)) <= 10:\n",
    "                # If it's an integer with <= 10 digits, assume it's a Unix timestamp\n",
    "                ct_timezone = pytz.timezone('US/Central')\n",
    "                new_date = pd.to_datetime(date, unit='s',utc=True).tz_convert(ct_timezone)\n",
    "                return new_date\n",
    "            else:\n",
    "                return date\n",
    "        except Exception as e:\n",
    "            return date\n",
    "\n",
    "    native_items = ['id', 'name', 'address', 'assignee_id', 'contact_type_id']\n",
    "\n",
    "    output_dict = {}\n",
    "\n",
    "    for item in native_items: output_dict[item] = company_data.get(item, None)\n",
    "    \n",
    "    custom_field_data = company_data['custom_fields']\n",
    "\n",
    "    for dict_item in custom_field_data:\n",
    "        item_id = dict_item['custom_field_definition_id']\n",
    "        item_name = custom_fields_dict.get(item_id, None)\n",
    "        data_type = custom_fields[item_id].get('data_type')\n",
    "\n",
    "        if item_name not in Output_CF or item_name is None:\n",
    "            continue\n",
    "        elif item_name is not None and ('options' in list(custom_fields[item_id].keys())):\n",
    "            item_value = dict_item['value']\n",
    "            value_name = core.cf_option_name(item_id,item_value)\n",
    "            output_dict[item_name] = value_name\n",
    "        elif data_type == 'Date':\n",
    "            cleaned_date = clean_date(dict_item['value'])\n",
    "            output_dict[item_name] = cleaned_date\n",
    "        else:\n",
    "            item_value = dict_item['value']\n",
    "            output_dict[item_name] = item_value\n",
    "\n",
    "    return output_dict"
   ]
  },
  {
   "cell_type": "code",
   "execution_count": 7,
   "metadata": {},
   "outputs": [],
   "source": [
    "#| export\n",
    "def search(search_query, # Instance of Query object\n",
    "           clean_data:bool = True, #Whether to clean results or not\n",
    "           drop_cols:list = None, # Columns to drop\n",
    "          )->pd.DataFrame:\n",
    "    \"\"\"Get Company \n",
    "    Function to search copper companies, and return the resulting data.\n",
    "\n",
    "    Parameters:      \n",
    "      search_query: Instance of Query onject\n",
    "\n",
    "        Query objects are used to house and process the query parameters for native fields to copper and \n",
    "        custom fields. \n",
    "\n",
    "            Info: help(Query) or ?Query\n",
    "      \n",
    "      clean_data: bool\n",
    "        Whether data is cleaned prior to return\n",
    "    \n",
    "      drop_cols: list\n",
    "        list of columns to drop, not include, in the returned dataframe. Names must match the copper field names exactly.\n",
    "    \n",
    "    Returns:\n",
    "      pandas.\n",
    "    \"\"\"\n",
    "\n",
    "    combined_results = core._search_loop(search_query,'https://api.copper.com/developer_api/v1/tasks/search')\n",
    "\n",
    "    if not combined_results: pass\n",
    "    if not clean_data: return combined_results\n",
    "   \n",
    "    if search_query._custom_fields: Output_CF = Query._custom_fields\n",
    "    else:                           Output_CF = None\n",
    "\n",
    "    cleaned_data = [_clean_company_data(result, Output_CF) for result in combined_results]\n",
    "    cleaned_data_df = pd.DataFrame(cleaned_data)\n",
    "\n",
    "    if drop_cols:      return cleaned_data_df.drop(columns=drop_cols,inplace=True)\n",
    "    else:              return cleaned_data_df "
   ]
  },
  {
   "cell_type": "markdown",
   "metadata": {},
   "source": [
    "### Searching Copper Companies\n",
    "\n",
    "Working with Copper Companies is a core feature of cuapi_wrapper and is done with the `companies.search` function."
   ]
  },
  {
   "cell_type": "code",
   "execution_count": null,
   "metadata": {},
   "outputs": [],
   "source": [
    "#| hide\n",
    "import nbdev; nbdev.nbdev_export()"
   ]
  }
 ],
 "metadata": {
  "kernelspec": {
   "display_name": "Python 3 (ipykernel)",
   "language": "python",
   "name": "python3"
  },
  "language_info": {
   "codemirror_mode": {
    "name": "ipython",
    "version": 3
   },
   "file_extension": ".py",
   "mimetype": "text/x-python",
   "name": "python",
   "nbconvert_exporter": "python",
   "pygments_lexer": "ipython3",
   "version": "3.10.13"
  }
 },
 "nbformat": 4,
 "nbformat_minor": 4
}
