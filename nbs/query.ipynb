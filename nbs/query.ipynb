{
 "cells": [
  {
   "cell_type": "markdown",
   "metadata": {},
   "source": [
    "# Query Object\n"
   ]
  },
  {
   "cell_type": "code",
   "execution_count": null,
   "metadata": {},
   "outputs": [],
   "source": [
    "#| default_exp query"
   ]
  },
  {
   "cell_type": "code",
   "execution_count": null,
   "metadata": {},
   "outputs": [],
   "source": [
    "#| hide\n",
    "\n",
    "from nbdev.showdoc import *"
   ]
  },
  {
   "cell_type": "code",
   "execution_count": null,
   "metadata": {},
   "outputs": [],
   "source": [
    "#| export\n",
    "from cu_api import config\n",
    "from cu_api.core import get_cf_options, prc_get_cf_fields\n",
    "import pandas as pd\n",
    "from fastcore.basics import patch\n",
    "from typing import Union, List"
   ]
  },
  {
   "cell_type": "code",
   "execution_count": null,
   "metadata": {},
   "outputs": [],
   "source": [
    "#| export\n",
    "\n",
    "class Query:\n",
    "    #\"The `Query` object is used to store and process search parameters when using the Copper API. Since using the Copper API is not very straight forward, it acts as a human comprehensable semantic layer that cu_api then decodes into the format the the API expects.\"\n",
    "\n",
    "    #  This class allows input of both native Copper field names or custom field IDs for search parameters.\n",
    "    #  It processes these inputs to prepare them for querying the Copper API.\n",
    "\n",
    "    def __init__(self):\n",
    "        self._data = {}             # Raw data (Keys and Values) provided by the user\n",
    "        self._processed_data = {}   # Keys and Values after they have been processed\n",
    "        self._native_fields = []    # List of all of the native field keys\n",
    "        self.outputs = []           # The columns that the user has specified they want in the outputed DataFrame\n",
    "\n",
    "    def __repr__(self):\n",
    "        return f\"Search Object: \\nInputs:  {self._data}, \\nProcessed Data:  {self._processed_data} \\nNative Fields used:{self._native_fields})\"\n"
   ]
  },
  {
   "cell_type": "markdown",
   "metadata": {},
   "source": [
    "## Setting Parameters\n",
    "\n",
    "Users are able to pass parameters by settting setting which values they want for any field on company records\n",
    "\n",
    "```python\n",
    "Query['Field Name'] = ['Vales','I','want']\n",
    "\n",
    "# Or, if you know the ID of the custome field, you can use that instead of the name\n",
    "\n",
    "Query[8675309] = ['Jenny']\n",
    "\n",
    "# You can do the same thing with field value if you know those as well:\n",
    "\n",
    "Query['Custom Field'] = [667788,889900,112233]\n",
    "```"
   ]
  },
  {
   "cell_type": "code",
   "execution_count": null,
   "metadata": {},
   "outputs": [],
   "source": [
    "#| export\n",
    "\n",
    "@patch\n",
    "def __setitem__(self:Query, \n",
    "                key:str,  # Name of Copper field or the Custome Field ID\n",
    "                value: list[str] # Field values that you want to be included\n",
    "                ):\n",
    "    \"\"\" Allows user to set accepte values for a Copper field. \n",
    "    \"\"\"\n",
    "    self._data[key] = value\n",
    "    self._process_input(key, value)"
   ]
  },
  {
   "cell_type": "markdown",
   "metadata": {},
   "source": [
    "## Processing Inputs\n",
    "\n",
    "After parameters are inputed by the user, work is done behind the scene to check if this inputs are valid and pre-prossess before being used in a search."
   ]
  },
  {
   "cell_type": "markdown",
   "metadata": {},
   "source": [
    "### 1. Ensuring the keys provide by the user are valid field names or valid field ids"
   ]
  },
  {
   "cell_type": "code",
   "execution_count": null,
   "metadata": {},
   "outputs": [],
   "source": [
    "#| export\n",
    "\n",
    "def _check_key(key):\n",
    "    \"\"\"\n",
    "    Function to ensure that 'keys' are custom field id as an interager\n",
    "    \"\"\"\n",
    "    prc_get_cf_fields()\n",
    "    CF_ID_LOOKUP = getattr(config,'CF_ID_LOOKUP')\n",
    "    CUSTOM_FIELDS_DICT = getattr(config,'CUSTOM_FIELDS_DICT')\n",
    "    \n",
    "    if isinstance(key,str) and key in CF_ID_LOOKUP.keys():\n",
    "        return CF_ID_LOOKUP.get(key)\n",
    "    elif isinstance(key,int) and key in CUSTOM_FIELDS_DICT.keys():\n",
    "        return key\n",
    "    elif isinstance(key,str):\n",
    "        try:\n",
    "            int_key = int(key)\n",
    "            if int_key in CUSTOM_FIELDS_DICT.keys():\n",
    "                return int_key\n",
    "        except ValueError:\n",
    "            pass\n",
    "    \n",
    "    raise ValueError(f\"Provided key '{key}' is not a valid custom field name(str) or custom field id(int)\")"
   ]
  },
  {
   "cell_type": "code",
   "execution_count": null,
   "metadata": {},
   "outputs": [
    {
     "data": {
      "text/markdown": [
       "---\n",
       "\n",
       "[source](https://github.com/cooper-richason/cu_api/blob/main/cu_api/query.py#L42){target=\"_blank\" style=\"float:right; font-size:smaller\"}\n",
       "\n",
       "#### _check_key\n",
       "\n",
       ">      _check_key (key)\n",
       "\n",
       "*Function to ensure that 'keys' are custom field id as an interager*"
      ],
      "text/plain": [
       "---\n",
       "\n",
       "[source](https://github.com/cooper-richason/cu_api/blob/main/cu_api/query.py#L42){target=\"_blank\" style=\"float:right; font-size:smaller\"}\n",
       "\n",
       "#### _check_key\n",
       "\n",
       ">      _check_key (key)\n",
       "\n",
       "*Function to ensure that 'keys' are custom field id as an interager*"
      ]
     },
     "execution_count": null,
     "metadata": {},
     "output_type": "execute_result"
    }
   ],
   "source": [
    "show_doc(_check_key,title_level=4)"
   ]
  },
  {
   "cell_type": "markdown",
   "metadata": {},
   "source": [
    "### 2. Ensuring values provided by user are valid names or valid value ids"
   ]
  },
  {
   "cell_type": "code",
   "execution_count": null,
   "metadata": {},
   "outputs": [],
   "source": [
    "#| export\n",
    "\n",
    "def _check_value(key:int, value):\n",
    "    \"\"\"\n",
    "    Function to convert provided custom field values to their corresponding IDs.\n",
    "\n",
    "    This function ensures that the provided 'values' are the IDs for the given custom field key 'key'.\n",
    "    \"\"\"\n",
    "    if isinstance(value, str): value = [value]\n",
    "    if isinstance(value, int): value = [value]\n",
    "\n",
    "    def find_key_by_value(dictionary, search_value):\n",
    "\n",
    "        for key, value in dictionary.items():\n",
    "            if value == search_value:\n",
    "                return key\n",
    "\n",
    "    cf_options = get_cf_options(key)\n",
    "    Updated_List = []\n",
    "\n",
    "    for item in value:\n",
    "        if isinstance(item,str) and item in cf_options.values():\n",
    "            id_value = find_key_by_value(cf_options, item)\n",
    "            Updated_List.append(id_value)\n",
    "        elif isinstance(item,int) and item in cf_options.keys():\n",
    "            Updated_List.append(item)\n",
    "        elif isinstance(item,str):\n",
    "            try:\n",
    "                int_key = int(item)\n",
    "                if int_key in cf_options.keys():\n",
    "                    Updated_List.append(int_key)\n",
    "            except ValueError:\n",
    "                continue\n",
    "    \n",
    "    return list(set(Updated_List))"
   ]
  },
  {
   "cell_type": "code",
   "execution_count": null,
   "metadata": {},
   "outputs": [
    {
     "data": {
      "text/markdown": [
       "---\n",
       "\n",
       "[source](https://github.com/cooper-richason/cu_api/blob/main/cu_api/query.py#L65){target=\"_blank\" style=\"float:right; font-size:smaller\"}\n",
       "\n",
       "#### _check_value\n",
       "\n",
       ">      _check_value (key:int, value)\n",
       "\n",
       "*Function to convert provided custom field values to their corresponding IDs.\n",
       "\n",
       "This function ensures that the provided 'values' are the IDs for the given custom field key 'key'.*"
      ],
      "text/plain": [
       "---\n",
       "\n",
       "[source](https://github.com/cooper-richason/cu_api/blob/main/cu_api/query.py#L65){target=\"_blank\" style=\"float:right; font-size:smaller\"}\n",
       "\n",
       "#### _check_value\n",
       "\n",
       ">      _check_value (key:int, value)\n",
       "\n",
       "*Function to convert provided custom field values to their corresponding IDs.\n",
       "\n",
       "This function ensures that the provided 'values' are the IDs for the given custom field key 'key'.*"
      ]
     },
     "execution_count": null,
     "metadata": {},
     "output_type": "execute_result"
    }
   ],
   "source": [
    "show_doc(_check_value,title_level=4)"
   ]
  },
  {
   "cell_type": "markdown",
   "metadata": {},
   "source": [
    "### Combining these into Function\n",
    "\n",
    "The `_process_input` function performs both `_check_key` and `_check_value` operations before storing the processed key and value in the _processed_data dictionary."
   ]
  },
  {
   "cell_type": "code",
   "execution_count": null,
   "metadata": {},
   "outputs": [],
   "source": [
    "#| export\n",
    "\n",
    "@patch\n",
    "def _process_input(self:Query, key, value):\n",
    "    \"\"\"Default processing function that stores the length of the value.\"\"\"\n",
    "\n",
    "    if isinstance(key,list) or key not in ['id','name','address','assignee_ids','contact_type_id',\n",
    "                'phone_number','city','state','postal_code','email_domains','tags','due_date','reminder_date','completed_date']:\n",
    "        self.outputs.append(key)\n",
    "        key = _check_key(key) \n",
    "        value = _check_value(key,value)\n",
    "    elif key not in self._native_fields:\n",
    "        self._native_fields.append(key)\n",
    "\n",
    "    self._processed_data[key] = value"
   ]
  },
  {
   "cell_type": "code",
   "execution_count": null,
   "metadata": {},
   "outputs": [
    {
     "data": {
      "text/markdown": [
       "---\n",
       "\n",
       "[source](https://github.com/cooper-richason/cu_api/blob/main/cu_api/query.py#L108){target=\"_blank\" style=\"float:right; font-size:smaller\"}\n",
       "\n",
       "#### Query._process_input\n",
       "\n",
       ">      Query._process_input (key, value)\n",
       "\n",
       "*Default processing function that stores the length of the value.*"
      ],
      "text/plain": [
       "---\n",
       "\n",
       "[source](https://github.com/cooper-richason/cu_api/blob/main/cu_api/query.py#L108){target=\"_blank\" style=\"float:right; font-size:smaller\"}\n",
       "\n",
       "#### Query._process_input\n",
       "\n",
       ">      Query._process_input (key, value)\n",
       "\n",
       "*Default processing function that stores the length of the value.*"
      ]
     },
     "execution_count": null,
     "metadata": {},
     "output_type": "execute_result"
    }
   ],
   "source": [
    "show_doc(Query._process_input,title_level=4)"
   ]
  },
  {
   "cell_type": "markdown",
   "metadata": {},
   "source": [
    "## Methods and Functions"
   ]
  },
  {
   "cell_type": "code",
   "execution_count": null,
   "metadata": {},
   "outputs": [],
   "source": [
    "#| export\n",
    "\n",
    "@patch\n",
    "def __getitem__(self:Query, key):\n",
    "    if key in self._data:               return self._data[key]\n",
    "    elif key in self._processed_data:   return self._processed_data[key]\n",
    "    else:                               raise KeyError(f\"Key '{key}' not found in provided Query.\")\n",
    "\n",
    " \n",
    "@patch\n",
    "def get_input(self:Query, key, default=None):\n",
    "    \"\"\"Get the original value provided by user.\"\"\"\n",
    "    return self._data.get(key, default)\n",
    "\n",
    "@patch\n",
    "def get_output(self:Query, key, default=None):\n",
    "    \"\"\"Get the processed value.\"\"\"\n",
    "    return self._processed_data.get(key, default)"
   ]
  },
  {
   "cell_type": "code",
   "execution_count": null,
   "metadata": {},
   "outputs": [],
   "source": [
    "#| export\n",
    "\n",
    "@patch\n",
    "def inputs(self:Query):\n",
    "    return self._data.items()\n",
    "\n",
    "@patch\n",
    "def input_keys(self:Query):\n",
    "    return self._data.keys()\n",
    "\n",
    "@patch\n",
    "def input_values(self:Query):\n",
    "    return self._data.values()\n",
    "\n",
    "@patch\n",
    "def items(self:Query):\n",
    "    return self._processed_data.items()\n",
    "\n",
    "@patch\n",
    "def keys(self:Query):\n",
    "    return list(self._processed_data.keys())\n",
    "\n",
    "@patch\n",
    "def values(self:Query):\n",
    "    return self._processed_data.values()"
   ]
  },
  {
   "cell_type": "code",
   "execution_count": null,
   "metadata": {},
   "outputs": [],
   "source": [
    "#| export\n",
    "\n",
    "def _process_query(Query):\n",
    "    \"\"\"\n",
    "    Function to take in a Query object and outputs items needed to search Copper.\n",
    "\n",
    "    Input\n",
    "    -----\n",
    "    \n",
    "    Query (object) containing the desired search parameters and information on desired outputs\n",
    "\n",
    "    Outputs\n",
    "    ------\n",
    "    \n",
    "    Native_Params - list[dict] for search parameters related to fields native to copper records types.\n",
    "\n",
    "        Example: [{'state':'CA'}]\n",
    "\n",
    "    CF_Params - list[dict] or search parameters related to custom fields on copper records. These have a special format dictated by Copper.\n",
    "\n",
    "        Example: {\"custom_field_definition_id\": 588393, \"value\":[1806073]}\n",
    "\n",
    "    Output_CFs - list of desired custom fields for the output dataframe\n",
    "    \"\"\"\n",
    "    Native_Params = {}\n",
    "    CF_Params = []\n",
    "    Outputs = Query.keys()\n",
    "    list_non_native = Query.keys() #starts out as all items and Native fields are removed in next step. Maybe should change this\n",
    "\n",
    "    if Query._native_fields: \n",
    "        for item in Query._native_fields:\n",
    "            Native_Params[item] = Query.get_output(item)\n",
    "            list_non_native.remove(item)\n",
    "    \n",
    "    if list_non_native:\n",
    "        for item in list_non_native:\n",
    "            CF_Params.append({\"custom_field_definition_id\": item,\"value\":Query.get_output(item)})\n",
    "    \n",
    "    for item in Query.outputs:\n",
    "        Outputs.append(_check_key(item))\n",
    "        \n",
    "    return Native_Params, CF_Params, Outputs"
   ]
  },
  {
   "cell_type": "code",
   "execution_count": null,
   "metadata": {},
   "outputs": [],
   "source": [
    "#| hide\n",
    "import nbdev; nbdev.nbdev_export()"
   ]
  }
 ],
 "metadata": {
  "kernelspec": {
   "display_name": "python3",
   "language": "python",
   "name": "python3"
  }
 },
 "nbformat": 4,
 "nbformat_minor": 4
}
